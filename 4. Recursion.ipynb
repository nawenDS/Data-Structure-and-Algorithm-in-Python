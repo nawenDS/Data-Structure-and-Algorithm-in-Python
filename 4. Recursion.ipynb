{
 "cells": [
  {
   "cell_type": "markdown",
   "metadata": {},
   "source": [
    "Recursion is a technique by which a function makes one or more calls to itself during execution.\n",
    "\n",
    "## 1. Illustrative Examples\n",
    "\n",
    "### 1.1 Factorial Function\n",
    "\n",
    "$$n!=\n",
    "\\begin{cases}\n",
    "1& \\text{if n = 0}\\\\\n",
    "n*(n-1)*(n-2)...*3*2*1& \\text{if n >= 1}\n",
    "\\end{cases}$$\n",
    "\n",
    "<br>\n",
    "Recursive definition:\n",
    "<br><br>\n",
    "$$n!=\n",
    "\\begin{cases}\n",
    "1& \\text{if n = 0}\\\\\n",
    "n*(n-1)!& \\text{if n >= 1}\n",
    "\\end{cases}$$\n",
    "\n",
    "<br>\n",
    "Typical recursive definition:\n",
    "\n",
    "    - contains one or more base cases, defined nonrecursively\n",
    "    - contains one ore more recursive cases, defined by appealing to the definition of the function being defined."
   ]
  },
  {
   "cell_type": "code",
   "execution_count": 1,
   "metadata": {},
   "outputs": [],
   "source": [
    "def factorial(n):\n",
    "    if n == 0:\n",
    "        return 1\n",
    "    else:\n",
    "        return n*factorial(n-1)"
   ]
  },
  {
   "cell_type": "markdown",
   "metadata": {},
   "source": [
    "In Python, each time a function is called, a structure known as an **activation record** or **frame** is created to store information about the progress of that invocation of the function.\n",
    "<br><br>\n",
    "This activation record includes a namespace for stroing the function call's parameters and local variables, information about which command in the body of the function is currently executing.\n",
    "<br><br>\n",
    "When the execution of a function leads to a nested function call, the execution of the former call is suspended, and its activation record stores the place in the source code at which the flow of control should continue upon return of the nested call.\n",
    "<br><br>\n",
    "There is a different activation record for each active call."
   ]
  },
  {
   "cell_type": "markdown",
   "metadata": {},
   "source": [
    "### 1.2 English Ruler\n",
    "\n",
    "In general, an interval with a central tick length L >= 1 is composed of:\n",
    "    - An interval with a central tick length L-1\n",
    "    - An single tick of length L\n",
    "    - An interval with a central tick lenth L-1"
   ]
  },
  {
   "cell_type": "code",
   "execution_count": 5,
   "metadata": {},
   "outputs": [],
   "source": [
    "def draw_line(tick_length, tick_label=''):\n",
    "    '''\n",
    "    Draw one line with given tick length\n",
    "    '''\n",
    "    line = '-'*tick_length\n",
    "    if tick_label:\n",
    "        line += ' ' + tick_label\n",
    "    print(line)\n",
    "    \n",
    "def draw_interval(center_length):\n",
    "    '''\n",
    "    Draw tick interval based upon a central tick length\n",
    "    '''\n",
    "    if center_length > 0:\n",
    "        draw_interval(center_length - 1)\n",
    "        draw_line(center_length)\n",
    "        draw_interval(center_length - 1)\n",
    "\n",
    "def draw_ruler(num_inches, major_length):\n",
    "    '''\n",
    "    Draw English ruler with given number of inches, major tick length\n",
    "    '''\n",
    "    draw_line(major_length, '0')\n",
    "    for j in range(1, 1 + num_inches):\n",
    "        draw_interval(major_length - 1)\n",
    "        draw_line(major_length, str(j))"
   ]
  },
  {
   "cell_type": "code",
   "execution_count": 7,
   "metadata": {},
   "outputs": [
    {
     "name": "stdout",
     "output_type": "stream",
     "text": [
      "---- 0\n",
      "-\n",
      "--\n",
      "-\n",
      "---\n",
      "-\n",
      "--\n",
      "-\n",
      "---- 1\n",
      "-\n",
      "--\n",
      "-\n",
      "---\n",
      "-\n",
      "--\n",
      "-\n",
      "---- 2\n"
     ]
    }
   ],
   "source": [
    "draw_ruler(2,4)"
   ]
  },
  {
   "cell_type": "markdown",
   "metadata": {},
   "source": [
    "### 1.3 Binary Search\n",
    "\n",
    "O(logn)"
   ]
  },
  {
   "cell_type": "code",
   "execution_count": 8,
   "metadata": {},
   "outputs": [],
   "source": [
    "def binary_search(data, target, low, high):\n",
    "    '''\n",
    "    The search only considers the portion from data[low] to data[high] inclusive\n",
    "    '''\n",
    "    if low > high:\n",
    "        return False\n",
    "    mid = (low + high) // 2\n",
    "    if target == data[mid]:\n",
    "        return True\n",
    "    elif target < data[mid]:\n",
    "        return binary_search(data, target, low, mid - 1)\n",
    "    else:\n",
    "        return binary_search(data, target, mid + 1, high)"
   ]
  },
  {
   "cell_type": "code",
   "execution_count": 9,
   "metadata": {},
   "outputs": [
    {
     "data": {
      "text/plain": [
       "True"
      ]
     },
     "execution_count": 9,
     "metadata": {},
     "output_type": "execute_result"
    }
   ],
   "source": [
    "data = [2,4,5,7,8,9,12,13,17,19,22,25,27,8,33,37]\n",
    "binary_search(data, 22, 0, len(data)-1)"
   ]
  },
  {
   "cell_type": "markdown",
   "metadata": {},
   "source": [
    "### 1.4 File Systems\n",
    "\n",
    "Pseudo-code:\n",
    "<br>\n",
    "Algorithm DiskUsage(path):\n",
    "    - Input: A string designating a path to a file-system entry\n",
    "    - Output: The cumulative disk space used by that entry and any nested entries\n",
    "    - total = size(path) {immediate disk space used by the entry}\n",
    "    - if path represents a directory then\n",
    "        for each child entry stored within directory path do\n",
    "            total = total + DiskUsage(child)\n",
    "    - return total"
   ]
  },
  {
   "cell_type": "code",
   "execution_count": 10,
   "metadata": {},
   "outputs": [],
   "source": [
    "import os\n",
    "\n",
    "def disk_usage(path):\n",
    "    '''\n",
    "    Return the number of bytes used by a file/folder and any descendents\n",
    "    '''\n",
    "    total = os.path.getsize(path) # account for direct usage\n",
    "    if os.path.isdir(path):\n",
    "        for filename in os.listdir(path):\n",
    "            childpath = os.path.join(path, filename) # compose full path to child\n",
    "            total += disk_usage(childpath)\n",
    "    print('{0:<7}'.format(total), path)\n",
    "    return total"
   ]
  },
  {
   "cell_type": "markdown",
   "metadata": {},
   "source": [
    "## 2. Analyzing Recursive Algorithms\n",
    "\n",
    "    For each invocation of the function, only account for the number of operations that are performed within the body of that activation.\n",
    "    Then account for the overall number of operations by taking the sum\n",
    "\n",
    "### 2.1 Factorials\n",
    "\n",
    "There are total n+1 activations, and each individual activation executes a constant number of operations.\n",
    "<br>\n",
    "O(n)\n",
    "\n",
    "### 2.2 English Ruler\n",
    "\n",
    "How many total lines of output are generated by an initial call to draw_interval(c):\n",
    "<br><br>\n",
    "$$2^c - 1$$\n",
    "\n",
    "### 2.3 Binary Search\n",
    "\n",
    "With each recursive call the number of candidate entries still to be searched is given by the value:\n",
    "    \n",
    "    high - low + 1\n",
    "\n",
    "The number of remaining candidates is reduced by at least on half with each recursive call:\n",
    "\n",
    "    (mid-1) - low + 1 = (high + low)/2 - low <= (high - low + 1)/2\n",
    "    high - (mid+1) + 1 = high - high + low)/2 <= (high - low + 1)/2\n",
    "\n",
    "In the worst case, the number of recursive calls performed is the smallest integer r such that:\n",
    "<br><br>\n",
    "$$\\frac{n}{2^r} < 1$$\n",
    "<br>\n",
    "$$r>logn \\;\\;-> r = logn + 1$$\n",
    "<br>\n",
    "The binary search runs in O(logn) time"
   ]
  },
  {
   "cell_type": "markdown",
   "metadata": {},
   "source": [
    "## 3. Recursion Run Amok\n",
    "\n",
    "### 3.1 element uniqueness problem\n",
    "\n",
    "When n = 1, the elements are unique.\n",
    "<br>\n",
    "When n >= 2, the elements are unique if and only if:\n",
    "    - the first n-1 elements are unique\n",
    "    - the last n-1 eleements are unique\n",
    "    - the first and last elements are different"
   ]
  },
  {
   "cell_type": "code",
   "execution_count": 11,
   "metadata": {},
   "outputs": [],
   "source": [
    "def unique3(S, start, stop):\n",
    "    '''\n",
    "    Return True if there are no duplicate elements in slice S[start:stop]\n",
    "    '''\n",
    "    if stop - start <= 1: # at most one item\n",
    "        return True\n",
    "    if not unique(S, start, stop-1): \n",
    "        return False\n",
    "    if not unique(S, start+1, stop):\n",
    "        return False\n",
    "    return S[start] != S[stop-1]"
   ]
  },
  {
   "cell_type": "markdown",
   "metadata": {},
   "source": [
    "The nonrecursive part of each call uses O(1).<br>\n",
    "A single call to unique3 of size n will result in two recursive call of size n-1, in the worst case, the total number of function calls:\n",
    "<br>\n",
    "$$1 + 2 + 4 + 8 + ...+2^{n-1}$$\n",
    "<br>\n",
    "So the running time is O($2^n$)"
   ]
  },
  {
   "cell_type": "markdown",
   "metadata": {},
   "source": [
    "### 3.2 Fibonacci problem"
   ]
  },
  {
   "cell_type": "code",
   "execution_count": 16,
   "metadata": {},
   "outputs": [],
   "source": [
    "def bad_fibonacci(n):\n",
    "    if n <= 1:\n",
    "        return n\n",
    "    return bad_fibonacci(n-2) + bad_fibonacci(n-1)"
   ]
  },
  {
   "cell_type": "markdown",
   "metadata": {},
   "source": [
    "In this way, the number of calls is exponential in n.<br>\n",
    "Because after computing $F_{n-2}$, the call to compute $F_{n-1}$ requires its own recursive call to compute $F_{n-2}$, which is duplicative work."
   ]
  },
  {
   "cell_type": "code",
   "execution_count": 17,
   "metadata": {},
   "outputs": [],
   "source": [
    "def original_fibonacci(n):\n",
    "    if n <= 1:\n",
    "        return n\n",
    "    a = 0\n",
    "    b = 1\n",
    "    for i in range(n-1):\n",
    "        a,b = b,a+b\n",
    "    return b"
   ]
  },
  {
   "cell_type": "markdown",
   "metadata": {},
   "source": [
    "Passing the F(n-1) from one level of the recursion to the next makes it much easier to continue the process."
   ]
  },
  {
   "cell_type": "code",
   "execution_count": 18,
   "metadata": {},
   "outputs": [],
   "source": [
    "# O(n)\n",
    "def good_fibonacci(n):\n",
    "    '''\n",
    "    return pair of Fibonacci numbers, F(n) and F(n-1)\n",
    "    '''\n",
    "    if n <= 1:\n",
    "        return (n, 0)\n",
    "    (a,b) = good_fibonacci(n-1)\n",
    "    return (a+b, a)"
   ]
  },
  {
   "cell_type": "markdown",
   "metadata": {},
   "source": [
    "### 3.3 Maximum Recursive Depth in Python\n",
    "\n",
    "Inifinite recursion: \n",
    "    - recursive call never reaching a base case.\n",
    "    \n",
    "Typically, if the overall number of simultaneously function activations is over 1000, Python will raise a RuntimeError with a message:\n",
    "    - maximum recursion depth exceeded\n",
    "    \n",
    "This can be changed by:"
   ]
  },
  {
   "cell_type": "code",
   "execution_count": 19,
   "metadata": {},
   "outputs": [],
   "source": [
    "#import sys\n",
    "#old = sys.getrecursionlimit()  # 1000 is typical\n",
    "#sys.setrecursionlimit(1000000)"
   ]
  },
  {
   "cell_type": "markdown",
   "metadata": {},
   "source": [
    "## 4. Further Examples of Recursion\n",
    "\n",
    "### 4.1 Linear Recursion\n",
    "\n",
    "**Linear Recursion:**\n",
    "    If a recursive call starts at most one other\n",
    "    \n",
    "#### Summing the Elements of a Sequence Recursively\n",
    "\n",
    "The sum of all n integers in S is 0, if n = 0\n",
    "<br>\n",
    "Otherwise it is the sum of the first n-1 element plus the last element"
   ]
  },
  {
   "cell_type": "code",
   "execution_count": 20,
   "metadata": {},
   "outputs": [],
   "source": [
    "# O(n), n+1 function calls and constant operation in each call\n",
    "def linear_sum(S, n):\n",
    "    if n == 0:\n",
    "        return 0\n",
    "    return linear_sum(S, n-1) + S[n-1]"
   ]
  },
  {
   "cell_type": "markdown",
   "metadata": {},
   "source": [
    "#### Reverse a Sequence with Recursion"
   ]
  },
  {
   "cell_type": "code",
   "execution_count": 21,
   "metadata": {},
   "outputs": [],
   "source": [
    "# O(n), 1+n/2 recursive calls\n",
    "# When calling the function stop = len(S)\n",
    "def reverse(S, start, stop):\n",
    "    '''\n",
    "    Reverse elements in slice S[start:stop]\n",
    "    '''\n",
    "    if start < stop - 1:\n",
    "        S[start],S[stop-1] = S[stop-1],S[start]\n",
    "        reverse(S,start+1,stop-1)"
   ]
  },
  {
   "cell_type": "markdown",
   "metadata": {},
   "source": [
    "#### Recursive Algorithms for Computing Powers\n",
    "\n",
    "$$power(x,n)=\n",
    "\\begin{cases}\n",
    "1& \\text{if n = 0}\\\\\n",
    "x*power(x,n-1)& \\text{otherwise}\n",
    "\\end{cases}$$\n"
   ]
  },
  {
   "cell_type": "code",
   "execution_count": 22,
   "metadata": {},
   "outputs": [],
   "source": [
    "# O(n)\n",
    "def power(x,n):\n",
    "    if n == 0:\n",
    "        return 1\n",
    "    return x * power(x, n-1)"
   ]
  },
  {
   "cell_type": "markdown",
   "metadata": {},
   "source": [
    "$$power(x,n)=\n",
    "\\begin{cases}\n",
    "1& \\text{if n = 0}\\\\\n",
    "x * (power(x,n//2))^2& \\text{if n > 0 and n is odd}\\\\\n",
    "(power(x,n//2))^2& \\text{if n > 0 and n is even}\n",
    "\\end{cases}$$"
   ]
  },
  {
   "cell_type": "code",
   "execution_count": 25,
   "metadata": {},
   "outputs": [],
   "source": [
    "# O(logn)\n",
    "def power(x,n):\n",
    "    if n == 0:\n",
    "        return 1\n",
    "    p = power(x, n//2)**2\n",
    "    if n % 2 == 1:\n",
    "        p *= x\n",
    "    return p"
   ]
  },
  {
   "cell_type": "markdown",
   "metadata": {},
   "source": [
    "### 4.2 Binary Recursion\n",
    "\n",
    "**Binary Recursion:**\n",
    "    - if each invocation of a recursive function makes two new recursive call."
   ]
  },
  {
   "cell_type": "code",
   "execution_count": 26,
   "metadata": {},
   "outputs": [],
   "source": [
    "# O(n), 2n-1 function calls\n",
    "def binary_sum(S, start, stop):\n",
    "    '''\n",
    "    Return the sum of the numbers in implicit slice S[start:stop]\n",
    "    '''\n",
    "    if start >= stop:\n",
    "        return 0\n",
    "    if start == stop - 1:\n",
    "        return S[start]\n",
    "    mid = (start + stop) // 2\n",
    "    return binary_sum(S, start, mid) + binary_sum(S, mid, stop)"
   ]
  },
  {
   "cell_type": "markdown",
   "metadata": {},
   "source": [
    "The depth of the recursion is 1 + $log_2n$, \n",
    "<br>so the amount of additional space is O(logn), \n",
    "<br>which is a big improvement over the O(n) by the linear_sum function."
   ]
  },
  {
   "cell_type": "markdown",
   "metadata": {},
   "source": [
    "### 4.3 Multiple Recursion\n",
    "\n",
    "**Multiple Recursion: **\n",
    "    - A function make more than two recursive calls"
   ]
  },
  {
   "cell_type": "markdown",
   "metadata": {},
   "source": [
    "## 5. Designing Recursive Algorithm\n",
    "\n",
    "An algorithm that uses recursion typically has the form:\n",
    "    - Test for base cases. At least one\n",
    "    - Recur. Perform when not a base case\n",
    "    \n",
    "### Parameterizing a Recursion\n",
    "\n",
    "Reparameterizing the signature of the function.\n",
    "    - Redefine the original problem to facilitate similar-looking subproblems.\n",
    "\n",
    "binary_search(data, target) -> binary_search(data, target, low, high)"
   ]
  },
  {
   "cell_type": "markdown",
   "metadata": {},
   "source": [
    "## 6. Eliminating Tail Recursion\n",
    "\n",
    "Recursive approach:\n",
    "    - take advantage of a repetitive structure present in many problems\n",
    "    - Must maintain activation records that keep track of the state of each nested call\n",
    "\n",
    "\n",
    "**Tail Recursion**:\n",
    "    - Eliminated without any use of axillary memory\n",
    "    - Any recursive call that is made from one context is the very last operation in that context, with the return value of the recursive call immediately returned by the enclosing recursion.\n",
    "    - Must be a linear recursion\n",
    "    \n",
    "Factorial is not a tail recursion: \n",
    "    - n * factorial(n-1)\n",
    "    - an additional multiplication is performed after the recursive call is completed.\n",
    "    \n",
    "Any tail recursion can be reimplemented nonrecursively by enclosing the body in a loop for repetition."
   ]
  },
  {
   "cell_type": "code",
   "execution_count": 27,
   "metadata": {},
   "outputs": [],
   "source": [
    "def binary_search_iterative(data, target):\n",
    "    low = 0\n",
    "    high = len(data)-1\n",
    "    while low <= high:\n",
    "        mid = (low + high) // 2\n",
    "        if target == data[mid]:\n",
    "            return True\n",
    "        elif target < data[mid]:\n",
    "            high = mid - 1\n",
    "        else:\n",
    "            low = mid + 1\n",
    "    return False"
   ]
  },
  {
   "cell_type": "code",
   "execution_count": 28,
   "metadata": {},
   "outputs": [],
   "source": [
    "def reverse(S, start, stop):\n",
    "    '''\n",
    "    Reverse elements in slice S[start:stop]\n",
    "    '''\n",
    "    if start < stop - 1:\n",
    "        S[start],S[stop-1] = S[stop-1],S[start]\n",
    "        reverse(S,start+1,stop-1)\n",
    "def reverse_iterative(S):\n",
    "    start = 0\n",
    "    stop = len(S) - 1\n",
    "    while start < stop - 1:\n",
    "        S[start],S[stop-1] = S[stop-1],S[start]\n",
    "        start, stop = start+1, stop-1"
   ]
  }
 ],
 "metadata": {
  "kernelspec": {
   "display_name": "Python 3",
   "language": "python",
   "name": "python3"
  },
  "language_info": {
   "codemirror_mode": {
    "name": "ipython",
    "version": 3
   },
   "file_extension": ".py",
   "mimetype": "text/x-python",
   "name": "python",
   "nbconvert_exporter": "python",
   "pygments_lexer": "ipython3",
   "version": "3.7.4"
  }
 },
 "nbformat": 4,
 "nbformat_minor": 2
}
